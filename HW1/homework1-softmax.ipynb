{
 "cells": [
  {
   "cell_type": "markdown",
   "metadata": {},
   "source": [
    "# Homework-1: Softmax for MNIST Classification\n",
    "\n",
    "### In this homework, you need to\n",
    "- ### implement and apply a softmax classifier to perform digits classification."
   ]
  },
  {
   "cell_type": "code",
   "execution_count": 1,
   "metadata": {},
   "outputs": [],
   "source": [
    "import os,sys\n",
    "import numpy as np\n",
    "import matplotlib.pyplot as plt\n",
    "%matplotlib inline"
   ]
  },
  {
   "cell_type": "markdown",
   "metadata": {},
   "source": [
    "## Load MNIST Dataset\n",
    "The **mnist_data_loader.py** is a script to load mnist dataset, which is included in [TensorFlow tutorial](https://github.com/tensorflow/tensorflow/blob/r0.7/tensorflow/examples/tutorials/mnist/input_data.py)."
   ]
  },
  {
   "cell_type": "code",
   "execution_count": 2,
   "metadata": {},
   "outputs": [
    {
     "name": "stderr",
     "output_type": "stream",
     "text": [
      "c:\\users\\primu\\appdata\\local\\programs\\python\\python37\\lib\\site-packages\\tensorflow\\python\\framework\\dtypes.py:516: FutureWarning: Passing (type, 1) or '1type' as a synonym of type is deprecated; in a future version of numpy, it will be understood as (type, (1,)) / '(1,)type'.\n",
      "  _np_qint8 = np.dtype([(\"qint8\", np.int8, 1)])\n",
      "c:\\users\\primu\\appdata\\local\\programs\\python\\python37\\lib\\site-packages\\tensorflow\\python\\framework\\dtypes.py:517: FutureWarning: Passing (type, 1) or '1type' as a synonym of type is deprecated; in a future version of numpy, it will be understood as (type, (1,)) / '(1,)type'.\n",
      "  _np_quint8 = np.dtype([(\"quint8\", np.uint8, 1)])\n",
      "c:\\users\\primu\\appdata\\local\\programs\\python\\python37\\lib\\site-packages\\tensorflow\\python\\framework\\dtypes.py:518: FutureWarning: Passing (type, 1) or '1type' as a synonym of type is deprecated; in a future version of numpy, it will be understood as (type, (1,)) / '(1,)type'.\n",
      "  _np_qint16 = np.dtype([(\"qint16\", np.int16, 1)])\n",
      "c:\\users\\primu\\appdata\\local\\programs\\python\\python37\\lib\\site-packages\\tensorflow\\python\\framework\\dtypes.py:519: FutureWarning: Passing (type, 1) or '1type' as a synonym of type is deprecated; in a future version of numpy, it will be understood as (type, (1,)) / '(1,)type'.\n",
      "  _np_quint16 = np.dtype([(\"quint16\", np.uint16, 1)])\n",
      "c:\\users\\primu\\appdata\\local\\programs\\python\\python37\\lib\\site-packages\\tensorflow\\python\\framework\\dtypes.py:520: FutureWarning: Passing (type, 1) or '1type' as a synonym of type is deprecated; in a future version of numpy, it will be understood as (type, (1,)) / '(1,)type'.\n",
      "  _np_qint32 = np.dtype([(\"qint32\", np.int32, 1)])\n",
      "c:\\users\\primu\\appdata\\local\\programs\\python\\python37\\lib\\site-packages\\tensorflow\\python\\framework\\dtypes.py:525: FutureWarning: Passing (type, 1) or '1type' as a synonym of type is deprecated; in a future version of numpy, it will be understood as (type, (1,)) / '(1,)type'.\n",
      "  np_resource = np.dtype([(\"resource\", np.ubyte, 1)])\n",
      "c:\\users\\primu\\appdata\\local\\programs\\python\\python37\\lib\\site-packages\\tensorboard\\compat\\tensorflow_stub\\dtypes.py:541: FutureWarning: Passing (type, 1) or '1type' as a synonym of type is deprecated; in a future version of numpy, it will be understood as (type, (1,)) / '(1,)type'.\n",
      "  _np_qint8 = np.dtype([(\"qint8\", np.int8, 1)])\n",
      "c:\\users\\primu\\appdata\\local\\programs\\python\\python37\\lib\\site-packages\\tensorboard\\compat\\tensorflow_stub\\dtypes.py:542: FutureWarning: Passing (type, 1) or '1type' as a synonym of type is deprecated; in a future version of numpy, it will be understood as (type, (1,)) / '(1,)type'.\n",
      "  _np_quint8 = np.dtype([(\"quint8\", np.uint8, 1)])\n",
      "c:\\users\\primu\\appdata\\local\\programs\\python\\python37\\lib\\site-packages\\tensorboard\\compat\\tensorflow_stub\\dtypes.py:543: FutureWarning: Passing (type, 1) or '1type' as a synonym of type is deprecated; in a future version of numpy, it will be understood as (type, (1,)) / '(1,)type'.\n",
      "  _np_qint16 = np.dtype([(\"qint16\", np.int16, 1)])\n",
      "c:\\users\\primu\\appdata\\local\\programs\\python\\python37\\lib\\site-packages\\tensorboard\\compat\\tensorflow_stub\\dtypes.py:544: FutureWarning: Passing (type, 1) or '1type' as a synonym of type is deprecated; in a future version of numpy, it will be understood as (type, (1,)) / '(1,)type'.\n",
      "  _np_quint16 = np.dtype([(\"quint16\", np.uint16, 1)])\n",
      "c:\\users\\primu\\appdata\\local\\programs\\python\\python37\\lib\\site-packages\\tensorboard\\compat\\tensorflow_stub\\dtypes.py:545: FutureWarning: Passing (type, 1) or '1type' as a synonym of type is deprecated; in a future version of numpy, it will be understood as (type, (1,)) / '(1,)type'.\n",
      "  _np_qint32 = np.dtype([(\"qint32\", np.int32, 1)])\n",
      "c:\\users\\primu\\appdata\\local\\programs\\python\\python37\\lib\\site-packages\\tensorboard\\compat\\tensorflow_stub\\dtypes.py:550: FutureWarning: Passing (type, 1) or '1type' as a synonym of type is deprecated; in a future version of numpy, it will be understood as (type, (1,)) / '(1,)type'.\n",
      "  np_resource = np.dtype([(\"resource\", np.ubyte, 1)])\n",
      "WARNING: Logging before flag parsing goes to stderr.\n",
      "W1005 21:57:42.208711 19428 deprecation_wrapper.py:119] From C:\\primus\\projects\\Deep-Learning-Assignments\\HW1\\mnist_data_loader.py:34: The name tf.gfile.Exists is deprecated. Please use tf.io.gfile.exists instead.\n",
      "\n",
      "W1005 21:57:42.211705 19428 deprecation_wrapper.py:119] From C:\\primus\\projects\\Deep-Learning-Assignments\\HW1\\mnist_data_loader.py:53: The name tf.gfile.Open is deprecated. Please use tf.io.gfile.GFile instead.\n",
      "\n"
     ]
    },
    {
     "name": "stdout",
     "output_type": "stream",
     "text": [
      "Extracting ./MNIST_data/train-images-idx3-ubyte.gz\n",
      "Extracting ./MNIST_data/train-labels-idx1-ubyte.gz\n",
      "Extracting ./MNIST_data/t10k-images-idx3-ubyte.gz\n",
      "Extracting ./MNIST_data/t10k-labels-idx1-ubyte.gz\n",
      "\n",
      "Training dataset size:  60000\n",
      "Test dataset size:  10000\n"
     ]
    }
   ],
   "source": [
    "import mnist_data_loader\n",
    "\n",
    "mnist_dataset = mnist_data_loader.read_data_sets(\"./MNIST_data/\", one_hot=True)\n",
    "\n",
    "# training dataset\n",
    "train_set = mnist_dataset.train \n",
    "# test dataset\n",
    "test_set = mnist_dataset.test   \n",
    "\n",
    "train_size = train_set.num_examples\n",
    "test_size = test_set.num_examples\n",
    "print()\n",
    "print('Training dataset size: ', train_size)\n",
    "print('Test dataset size: ', test_size)"
   ]
  },
  {
   "cell_type": "markdown",
   "metadata": {},
   "source": [
    "## Data Example\n",
    "To have a better understand of MNIST dataset, we can visualize some examples in MNIST."
   ]
  },
  {
   "cell_type": "code",
   "execution_count": 3,
   "metadata": {},
   "outputs": [
    {
     "name": "stdout",
     "output_type": "stream",
     "text": [
      "[0. 0. 0. 0. 0. 1. 0. 0. 0. 0.]\n"
     ]
    },
    {
     "data": {
      "text/plain": [
       "<matplotlib.image.AxesImage at 0x13dd6a1c0b8>"
      ]
     },
     "execution_count": 3,
     "metadata": {},
     "output_type": "execute_result"
    },
    {
     "data": {
      "image/png": "[encoded data removed]",
      "text/plain": [
       "<Figure size 432x288 with 1 Axes>"
      ]
     },
     "metadata": {
      "needs_background": "light"
     },
     "output_type": "display_data"
    }
   ],
   "source": [
    "# You can choose any image in training set to visualize, example_id ∈ [0,60000)\n",
    "example_id = 0 \n",
    "\n",
    "image = train_set.images[example_id] # shape = 784 (28*28)\n",
    "label = train_set.labels[example_id] # shape = 10\n",
    "#print(image)\n",
    "print(label)\n",
    "plt.imshow(np.reshape(image,[28,28]))"
   ]
  },
  {
   "cell_type": "markdown",
   "metadata": {},
   "source": [
    "## Set Hyerparameters\n",
    "You can modify hyerparameters by yourself."
   ]
  },
  {
   "cell_type": "code",
   "execution_count": 4,
   "metadata": {},
   "outputs": [],
   "source": [
    "batch_size = 100\n",
    "max_epoch = 10\n",
    "learning_rate = 0.01\n",
    "\n",
    "# For regularization\n",
    "lamda = 0.5"
   ]
  },
  {
   "cell_type": "markdown",
   "metadata": {},
   "source": [
    "### TODO\n",
    "Before executing the following code, you should accomplish **./softmax_classifier.py**."
   ]
  },
  {
   "cell_type": "code",
   "execution_count": 5,
   "metadata": {},
   "outputs": [],
   "source": [
    "from softmax_classifier import softmax_classifier"
   ]
  },
  {
   "cell_type": "markdown",
   "metadata": {},
   "source": [
    "## Train"
   ]
  },
  {
   "cell_type": "code",
   "execution_count": 6,
   "metadata": {
    "scrolled": true
   },
   "outputs": [
    {
     "name": "stdout",
     "output_type": "stream",
     "text": [
      "Epoch [0][10]\t Batch [0][600]\t Training Loss 12.3700\t Accuracy 0.0400\n",
      "Epoch [0][10]\t Batch [100][600]\t Training Loss 5.4600\t Accuracy 0.7800\n",
      "Epoch [0][10]\t Batch [200][600]\t Training Loss 4.1800\t Accuracy 0.8000\n",
      "Epoch [0][10]\t Batch [300][600]\t Training Loss 3.2000\t Accuracy 0.8000\n",
      "Epoch [0][10]\t Batch [400][600]\t Training Loss 2.8100\t Accuracy 0.8800\n",
      "Epoch [0][10]\t Batch [500][600]\t Training Loss 2.2100\t Accuracy 0.8600\n",
      "\n",
      "Epoch [1][10]\t Batch [0][600]\t Training Loss 2.9600\t Accuracy 0.8200\n",
      "Epoch [1][10]\t Batch [100][600]\t Training Loss 3.2500\t Accuracy 0.8700\n",
      "Epoch [1][10]\t Batch [200][600]\t Training Loss 4.6300\t Accuracy 0.7700\n",
      "Epoch [1][10]\t Batch [300][600]\t Training Loss 3.3900\t Accuracy 0.8100\n",
      "Epoch [1][10]\t Batch [400][600]\t Training Loss 1.9300\t Accuracy 0.8500\n",
      "Epoch [1][10]\t Batch [500][600]\t Training Loss 3.2100\t Accuracy 0.8600\n",
      "\n",
      "Epoch [2][10]\t Batch [0][600]\t Training Loss 3.6000\t Accuracy 0.8200\n",
      "Epoch [2][10]\t Batch [100][600]\t Training Loss 2.4000\t Accuracy 0.8300\n",
      "Epoch [2][10]\t Batch [200][600]\t Training Loss 4.4900\t Accuracy 0.7700\n",
      "Epoch [2][10]\t Batch [300][600]\t Training Loss 1.9000\t Accuracy 0.9200\n",
      "Epoch [2][10]\t Batch [400][600]\t Training Loss 2.1700\t Accuracy 0.9100\n",
      "Epoch [2][10]\t Batch [500][600]\t Training Loss 2.9700\t Accuracy 0.8200\n",
      "\n",
      "Epoch [3][10]\t Batch [0][600]\t Training Loss 2.3100\t Accuracy 0.8300\n",
      "Epoch [3][10]\t Batch [100][600]\t Training Loss 1.9200\t Accuracy 0.8600\n",
      "Epoch [3][10]\t Batch [200][600]\t Training Loss 2.4600\t Accuracy 0.8900\n",
      "Epoch [3][10]\t Batch [300][600]\t Training Loss 2.5900\t Accuracy 0.8800\n",
      "Epoch [3][10]\t Batch [400][600]\t Training Loss 3.6300\t Accuracy 0.8400\n",
      "Epoch [3][10]\t Batch [500][600]\t Training Loss 2.5600\t Accuracy 0.8500\n",
      "\n",
      "Epoch [4][10]\t Batch [0][600]\t Training Loss 4.5000\t Accuracy 0.8500\n",
      "Epoch [4][10]\t Batch [100][600]\t Training Loss 2.4400\t Accuracy 0.8500\n",
      "Epoch [4][10]\t Batch [200][600]\t Training Loss 2.2600\t Accuracy 0.9200\n",
      "Epoch [4][10]\t Batch [300][600]\t Training Loss 2.2500\t Accuracy 0.8500\n",
      "Epoch [4][10]\t Batch [400][600]\t Training Loss 1.8400\t Accuracy 0.9100\n",
      "Epoch [4][10]\t Batch [500][600]\t Training Loss 4.0700\t Accuracy 0.8100\n",
      "\n",
      "Epoch [5][10]\t Batch [0][600]\t Training Loss 2.3400\t Accuracy 0.8400\n",
      "Epoch [5][10]\t Batch [100][600]\t Training Loss 3.6100\t Accuracy 0.8200\n",
      "Epoch [5][10]\t Batch [200][600]\t Training Loss 3.1700\t Accuracy 0.8700\n",
      "Epoch [5][10]\t Batch [300][600]\t Training Loss 2.2300\t Accuracy 0.8600\n",
      "Epoch [5][10]\t Batch [400][600]\t Training Loss 2.9300\t Accuracy 0.8500\n",
      "Epoch [5][10]\t Batch [500][600]\t Training Loss 1.8100\t Accuracy 0.8700\n",
      "\n",
      "Epoch [6][10]\t Batch [0][600]\t Training Loss 2.6400\t Accuracy 0.8800\n",
      "Epoch [6][10]\t Batch [100][600]\t Training Loss 3.4600\t Accuracy 0.7900\n",
      "Epoch [6][10]\t Batch [200][600]\t Training Loss 1.2900\t Accuracy 0.8800\n",
      "Epoch [6][10]\t Batch [300][600]\t Training Loss 1.9500\t Accuracy 0.9000\n",
      "Epoch [6][10]\t Batch [400][600]\t Training Loss 3.0200\t Accuracy 0.8100\n",
      "Epoch [6][10]\t Batch [500][600]\t Training Loss 3.5600\t Accuracy 0.8300\n",
      "\n",
      "Epoch [7][10]\t Batch [0][600]\t Training Loss 3.3700\t Accuracy 0.8400\n",
      "Epoch [7][10]\t Batch [100][600]\t Training Loss 3.9200\t Accuracy 0.8100\n",
      "Epoch [7][10]\t Batch [200][600]\t Training Loss 3.0200\t Accuracy 0.8400\n",
      "Epoch [7][10]\t Batch [300][600]\t Training Loss 3.1300\t Accuracy 0.8400\n",
      "Epoch [7][10]\t Batch [400][600]\t Training Loss 2.7100\t Accuracy 0.7900\n",
      "Epoch [7][10]\t Batch [500][600]\t Training Loss 1.3800\t Accuracy 0.8800\n",
      "\n",
      "Epoch [8][10]\t Batch [0][600]\t Training Loss 2.6300\t Accuracy 0.8700\n",
      "Epoch [8][10]\t Batch [100][600]\t Training Loss 4.2000\t Accuracy 0.7800\n",
      "Epoch [8][10]\t Batch [200][600]\t Training Loss 4.1500\t Accuracy 0.8300\n",
      "Epoch [8][10]\t Batch [300][600]\t Training Loss 2.6900\t Accuracy 0.8700\n",
      "Epoch [8][10]\t Batch [400][600]\t Training Loss 2.7300\t Accuracy 0.8800\n",
      "Epoch [8][10]\t Batch [500][600]\t Training Loss 2.5400\t Accuracy 0.8400\n",
      "\n",
      "Epoch [9][10]\t Batch [0][600]\t Training Loss 1.9700\t Accuracy 0.8900\n",
      "Epoch [9][10]\t Batch [100][600]\t Training Loss 2.2000\t Accuracy 0.8400\n",
      "Epoch [9][10]\t Batch [200][600]\t Training Loss 2.5700\t Accuracy 0.8400\n",
      "Epoch [9][10]\t Batch [300][600]\t Training Loss 3.8500\t Accuracy 0.8300\n",
      "Epoch [9][10]\t Batch [400][600]\t Training Loss 2.2800\t Accuracy 0.8200\n",
      "Epoch [9][10]\t Batch [500][600]\t Training Loss 2.7200\t Accuracy 0.8400\n",
      "\n"
     ]
    }
   ],
   "source": [
    "# Weight Initialization\n",
    "W = np.random.randn(28*28, 10) * 0.001\n",
    "\n",
    "loss_set = []\n",
    "accu_set = []\n",
    "disp_freq = 100\n",
    "\n",
    "# Training process\n",
    "for epoch in range(0, max_epoch):\n",
    "    iter_per_batch = train_size // batch_size\n",
    "    for batch_id in range(0, iter_per_batch):\n",
    "        batch = train_set.next_batch(batch_size) # get data of next batch\n",
    "        input, label = batch\n",
    "        \n",
    "        # softmax_classifier\n",
    "        loss, gradient, prediction = softmax_classifier(W, input , label, lamda)\n",
    "        \n",
    "        # Calculate accuracy\n",
    "        label = np.argmax(label, axis=1) # scalar representation\n",
    "        accuracy = sum(prediction == label) / float(len(label))\n",
    "        \n",
    "        loss_set.append(loss)\n",
    "        accu_set.append(accuracy)\n",
    "        \n",
    "        # Update weights\n",
    "        W = W - (learning_rate * gradient)\n",
    "        if batch_id % disp_freq == 0:\n",
    "            print(\"Epoch [{}][{}]\\t Batch [{}][{}]\\t Training Loss {:.4f}\\t Accuracy {:.4f}\".format(\n",
    "                epoch, max_epoch, batch_id, iter_per_batch, \n",
    "                loss, accuracy))\n",
    "    print()"
   ]
  },
  {
   "cell_type": "markdown",
   "metadata": {},
   "source": [
    "## Test"
   ]
  },
  {
   "cell_type": "code",
   "execution_count": 7,
   "metadata": {
    "scrolled": true
   },
   "outputs": [
    {
     "name": "stdout",
     "output_type": "stream",
     "text": [
      "Test Accuracy:  0.8575\n"
     ]
    }
   ],
   "source": [
    "correct = 0\n",
    "iter_per_batch = test_size // batch_size\n",
    "\n",
    "# Test process\n",
    "for batch_id in range(0, iter_per_batch):\n",
    "    batch = test_set.next_batch(batch_size)\n",
    "    data, label = batch\n",
    "    \n",
    "    # We only need prediction results in testing\n",
    "    _,_, prediction = softmax_classifier(W, data , label, lamda)\n",
    "    label = np.argmax(label, axis=1)\n",
    "    \n",
    "    correct += sum(prediction == label)\n",
    "    \n",
    "accuracy = correct * 1.0 / test_size\n",
    "print('Test Accuracy: ', accuracy)"
   ]
  },
  {
   "cell_type": "markdown",
   "metadata": {},
   "source": [
    "## Plot"
   ]
  },
  {
   "cell_type": "code",
   "execution_count": 8,
   "metadata": {
    "scrolled": false
   },
   "outputs": [
    {
     "data": {
      "image/png": "[encoded data removed]",
      "text/plain": [
       "<Figure size 432x288 with 1 Axes>"
      ]
     },
     "metadata": {
      "needs_background": "light"
     },
     "output_type": "display_data"
    },
    {
     "data": {
      "image/png": "[encoded data removed]",
      "text/plain": [
       "<Figure size 432x288 with 1 Axes>"
      ]
     },
     "metadata": {
      "needs_background": "light"
     },
     "output_type": "display_data"
    }
   ],
   "source": [
    "# training loss curve\n",
    "plt.figure()\n",
    "plt.plot(loss_set, 'b--')\n",
    "plt.xlabel('iteration')\n",
    "plt.ylabel('loss')\n",
    "# training accuracy curve\n",
    "plt.figure()\n",
    "plt.plot(accu_set, 'r--')\n",
    "plt.xlabel('iteration')\n",
    "plt.ylabel('accuracy');"
   ]
  },
  {
   "cell_type": "markdown",
   "metadata": {},
   "source": [
    "### You have finished homework1-softmax, congratulations!"
   ]
  }
 ],
 "metadata": {
  "kernelspec": {
   "display_name": "Python 3",
   "language": "python",
   "name": "python3"
  },
  "language_info": {
   "codemirror_mode": {
    "name": "ipython",
    "version": 3
   },
   "file_extension": ".py",
   "mimetype": "text/x-python",
   "name": "python",
   "nbconvert_exporter": "python",
   "pygments_lexer": "ipython3",
   "version": "3.7.2"
  }
 },
 "nbformat": 4,
 "nbformat_minor": 2
}
